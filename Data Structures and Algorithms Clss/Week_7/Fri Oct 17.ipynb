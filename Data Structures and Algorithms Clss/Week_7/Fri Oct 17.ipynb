{
 "cells": [
  {
   "cell_type": "markdown",
   "id": "3d0bb66e",
   "metadata": {},
   "source": [
    "# 스택 구현: 단순 연결 리스트\n",
    "- 연결 자료구조를 이용하여 스택 구조를 구현하세요."
   ]
  },
  {
   "cell_type": "code",
   "execution_count": null,
   "id": "e92c419c",
   "metadata": {},
   "outputs": [],
   "source": [
    "class LinkedStack:\n",
    "    class SNode:\n",
    "        def __init__(self, data, link = None):\n",
    "            self.data = data\n",
    "            self.link = link\n",
    "        def __del__(self):\n",
    "            pass\n",
    "        def empty(self) -> bool:\n",
    "            pass\n",
    "        def size(self) -> int:\n",
    "            pass\n",
    "        def push(self) -> None:\n",
    "            pass\n",
    "        def pop(self) -> None:\n",
    "            pass\n",
    "        def top(self):\n",
    "            pass\n",
    "        def printStack(self)-> None:\n",
    "            pass\n",
    "    def __init__(self):\n",
    "        self.__top = None\n",
    "        self.__count = 0\n",
    "\n",
    "if __name__ == '__main__':\n",
    "    StackList = LinkedStack()\n",
    "\n",
    "    print('### 스택 구현: 단순연결리스트 ###')\n",
    "    print('1) 데이터 삽입: push')\n",
    "    print('2) 데이터 삭제 : pop')\n",
    "    print('3) 전체 출력')\n",
    "    print('4) 프로그램 종료\\n')\n",
    "    menu_num = int(input('메뉴 선택: '))\n",
    "\n",
    "    match(menu_num):\n",
    "\n",
    "        case '1':\n",
    "            StackList.push()\n",
    "        case '2':\n",
    "            StackList.pop()\n",
    "        case '3':\n",
    "            StackList.printStack()\n",
    "        case '4':\n",
    "            exit(1)\n",
    "    \n"
   ]
  }
 ],
 "metadata": {
  "kernelspec": {
   "display_name": ".venv",
   "language": "python",
   "name": "python3"
  },
  "language_info": {
   "name": "python",
   "version": "3.13.5"
  }
 },
 "nbformat": 4,
 "nbformat_minor": 5
}
