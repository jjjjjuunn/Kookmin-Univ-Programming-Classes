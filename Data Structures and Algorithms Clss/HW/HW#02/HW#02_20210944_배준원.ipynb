{
 "cells": [
  {
   "cell_type": "markdown",
   "id": "717f5454",
   "metadata": {},
   "source": [
    "### 연습문제 #01 : 피보나치 수열 : 성능평가\n",
    "**조사를 통해 time 모듈의 time() method보다 perf_counter() method가 더 정밀하고 시스템 시계 조정의 영향을 받지 않아 성능 측정에 더 적합하다는 사실을 알 수 있었다.**\n",
    "\n",
    "하지만 이번 코드에 한해서는 두 방법의 시간차가 크지 않을 것이므로 과제의 요구조건이 time() method를 그대로 사용하였다. \n",
    "\n",
    "perf_counter() Method를 꼭 써야만하는 상황들:\n",
    "1. 매우 빠른 연산의 정밀 측정\n",
    "2. 마이크로 벤치마킹\n",
    "3. 시스템 시계 조정이 빈번한 환경\n",
    "4. 장시간 실행되는 성능 측정\n",
    "5. 고정밀 타이밍이 필요한 분야\n",
    "\n",
    "#### 비재귀적 용법\n",
    "*first, second = second, result*의 '튜플 언패킹'을 활용하여 불필요한 임시변수의 선언을 제거했다. "
   ]
  },
  {
   "cell_type": "code",
   "execution_count": 8,
   "id": "55a7971d",
   "metadata": {},
   "outputs": [
    {
     "name": "stdout",
     "output_type": "stream",
     "text": [
      "### 피보나치 수열 구하기 ###\n",
      "       1       1       2       3       5\n",
      "       8      13      21      34      55\n",
      "      89     144     233     377     610\n",
      "     987    1597    2584    4181    6765\n",
      "   10946   17711   28657   46368   75025\n",
      "  121393  196418  317811  514229  832040\n",
      " 1346269 2178309 3524578 5702887 9227465\n",
      "\n",
      "\n",
      "수행시간: 2.5525310039520264\n"
     ]
    }
   ],
   "source": [
    "# 피보나치 수열: 재귀적 용법 \n",
    "import time\n",
    "\n",
    "def Fibo(num) -> int:\n",
    "    if num == 1 or num == 2:\n",
    "        return 1\n",
    "    else:\n",
    "        return Fibo(num-1) + Fibo(num-2)\n",
    "\n",
    "if __name__ == '__main__':\n",
    "    print(\"### 피보나치 수열 구하기 ###\")\n",
    "    num = int(input(\"몇 번쨰 수열까지 출력할까요: \"))\n",
    "    \n",
    "    start_time = time.time()\n",
    "    for i in range(1, num+1):\n",
    "        if i % 5 == 0:\n",
    "            print(f'{Fibo(i):8}', end = '\\n')\n",
    "        else:\n",
    "            print(f'{Fibo(i):8}', end = '')\n",
    "    end_time = time.time()\n",
    "    execution_time = end_time - start_time\n",
    "\n",
    "    print(f'\\n\\n수행시간: {execution_time}')"
   ]
  },
  {
   "cell_type": "code",
   "execution_count": 9,
   "id": "671c098a",
   "metadata": {},
   "outputs": [
    {
     "name": "stdout",
     "output_type": "stream",
     "text": [
      "### 피보나치 수열 구하기 ###\n",
      "       1       1       2       3       5\n",
      "       8      13      21      34      55\n",
      "      89     144     233     377     610\n",
      "     987    1597    2584    4181    6765\n",
      "   10946   17711   28657   46368   75025\n",
      "  121393  196418  317811  514229  832040\n",
      " 1346269 2178309 3524578 5702887 9227465\n",
      "14930352241578173908816963245986102334155\n",
      "1655801412679142964334944377014087331134903170\n",
      "수행시간: 0.0002961158752441406\n"
     ]
    }
   ],
   "source": [
    "# 피보나치 수열: 비재귀적 용법\n",
    "import time\n",
    "\n",
    "def Fibo(num) -> int:\n",
    "    if num == 1 or num == 2:\n",
    "        return 1\n",
    "    else:\n",
    "        first = 1\n",
    "        second = 1\n",
    "        for i in range(0,num-2):\n",
    "            result = first + second\n",
    "            first, second = second, result\n",
    "        return result\n",
    "    \n",
    "if __name__ == '__main__':\n",
    "    print(\"### 피보나치 수열 구하기 ###\")\n",
    "    num = int(input(\"몇 번쨰 수열까지 출력할까요: \"))\n",
    "    \n",
    "    start_time = time.time()\n",
    "    for i in range(1, num+1):\n",
    "        if i % 5 == 0:\n",
    "            print(f'{Fibo(i):8}\\n', end = '')\n",
    "        else:\n",
    "            print(f'{Fibo(i):8}', end = '')\n",
    "    end_time = time.time()\n",
    "    execution_time = end_time - start_time\n",
    "    \n",
    "    print(f'수행시간: {execution_time}')\n"
   ]
  },
  {
   "cell_type": "markdown",
   "id": "cc1876f0",
   "metadata": {},
   "source": [
    "### 연습문제 #02: 이진 검색: 정렬 알고리즘\n",
    "1. 난수를 생성하는 함수\n",
    "2. 삽입 정렬 알고리즘\n",
    "3. 퀵 정렬 알고리즘\n",
    "4. 병합 정렬 알고리즘\n",
    "5. 이진 탐색 알고리즘\n",
    "6. 최종 프로그램\n",
    "\n",
    "*각 셀당 하나의 함수를 구현하고, 마지막 셀에 프로그램을 구현했다. 프로그램에서는 삽입 정렬 알고리즘으로 작성하였지만, 퀵 정렬과 병합 정렬 모두 정상적으로 동작한다.*"
   ]
  },
  {
   "cell_type": "code",
   "execution_count": null,
   "id": "a97b539f",
   "metadata": {},
   "outputs": [],
   "source": [
    "# 임의의 난수를 생성하는 함수\n",
    "import random\n",
    "def Random_Number() -> list:\n",
    "    num_list = []\n",
    "    while len(num_list) < 10:\n",
    "        num = random.randint(1,100)\n",
    "        if num not in num_list:\n",
    "            num_list.append(num)\n",
    "    return num_list"
   ]
  },
  {
   "cell_type": "code",
   "execution_count": null,
   "id": "8539ecad",
   "metadata": {},
   "outputs": [],
   "source": [
    "# 이진 검색: 삽입 정렬 알고리즘\n",
    "def InsertionSort(A, N) -> list:\n",
    "    for i in range(1, N):\n",
    "        j = i - 1\n",
    "        value = A[i]\n",
    "        while(j >= 0 and value < A[j]):\n",
    "            A[j + 1] = A[j]\n",
    "            j -= 1\n",
    "        A[j + 1] = value\n",
    "    return A\n",
    "\n",
    "num_random_list = Random_Number()\n",
    "N = len(num_random_list)\n",
    "print(InsertionSort(num_random_list,N))"
   ]
  },
  {
   "cell_type": "code",
   "execution_count": null,
   "id": "9ff581d6",
   "metadata": {},
   "outputs": [],
   "source": [
    "# 이진 검색: 퀵 정렬 알고리즘\n",
    "def QuickSort(A, first, last):\n",
    "    if first < last:\n",
    "        mid = Partition(A, first, last)\n",
    "        QuickSort(A, first, mid - 1)\n",
    "        QuickSort(A, mid + 1, last)\n",
    "\n",
    "def Partition(A, first, last):\n",
    "    pivot = A[last]\n",
    "    i = first - 1\n",
    "    for j in range(first, last):\n",
    "        if A[j] <= pivot:\n",
    "            i += 1\n",
    "            A[i],A[j] = A[j],A[i]\n",
    "    A[i+1], A[last] = A[last], A[i+1]\n",
    "    \n",
    "    return i+1\n",
    "\n",
    "num_random_list = Random_Number()\n",
    "print(QuickSort(num_random_list, 0, len(num_random_list)-1))"
   ]
  },
  {
   "cell_type": "code",
   "execution_count": null,
   "id": "1e6b9308",
   "metadata": {},
   "outputs": [],
   "source": [
    "# 이진 검색: 병합 정렬 알고리즘\n",
    "\n",
    "def MergeSort(A, first, last) -> list:\n",
    "    if first < last:\n",
    "        mid = (first + last) // 2 \n",
    "        MergeSort(A, first, mid)\n",
    "        MergeSort(A, mid + 1, last)\n",
    "        merge(A, first, mid, last)\n",
    "\n",
    "    return A\n",
    "\n",
    "def merge(A, first, mid, last):\n",
    "    # 임시 배열 생성\n",
    "    temp = [0] * (last - first + 1)\n",
    "    i, j, k = first, mid + 1, 0\n",
    "    \n",
    "    # 두 부분 배열 병합\n",
    "    while i <= mid and j <= last:\n",
    "        if A[i] <= A[j]:\n",
    "            temp[k] = A[i]\n",
    "            i += 1\n",
    "        else:\n",
    "            temp[k] = A[j]\n",
    "            j += 1\n",
    "        k += 1\n",
    "    \n",
    "    # 남은 원소들 복사\n",
    "    while i <= mid:\n",
    "        temp[k] = A[i]\n",
    "        i += 1\n",
    "        k += 1\n",
    "    \n",
    "    while j <= last:\n",
    "        temp[k] = A[j]\n",
    "        j += 1\n",
    "        k += 1\n",
    "    \n",
    "    # 원본 배열에 복사\n",
    "    for i in range(len(temp)):\n",
    "        A[first + i] = temp[i]\n",
    "\n",
    "num_random_list = Random_Number()\n",
    "print(MergeSort(num_random_list, 0, len(num_random_list) - 1)) "
   ]
  },
  {
   "cell_type": "code",
   "execution_count": null,
   "id": "c25ebd74",
   "metadata": {},
   "outputs": [],
   "source": [
    "# 이진 검색 알고리즘 : 비재귀적 용법\n",
    "def binarySearch(sList, first: int, last: int, key: int) -> int:\n",
    "    while(first <= last):\n",
    "        mid = (first + last) // 2\n",
    "        if key == sList[mid]:\n",
    "            return mid\n",
    "        elif key < sList[mid]:\n",
    "            last = mid - 1\n",
    "        elif key > sList[mid]:\n",
    "            first = mid + 1\n",
    "    return -1"
   ]
  },
  {
   "cell_type": "code",
   "execution_count": null,
   "id": "0e0c8751",
   "metadata": {},
   "outputs": [],
   "source": [
    "# 이진 탐색 알고리즘으로 임의의 난수 중 원하는 데이터를 검색하는 프로그램\n",
    "num_random_list = Random_Number()\n",
    "num_sorted_list = InsertionSort(num_random_list, len(num_random_list))\n",
    "print(f'원시데이터: {num_sorted_list}')\n",
    "\n",
    "while True:\n",
    "    num_search = int(input('검색 데이터 입력(검색 종료: 0): '))\n",
    "    if num_search == 0:\n",
    "        break\n",
    "    result = binarySearch(num_sorted_list, 0, len(num_random_list)-1, num_search)\n",
    "\n",
    "    if result != -1:\n",
    "        print(f'검색된 데이터: {result + 1}번째 {num_search}')\n",
    "    else:\n",
    "        print(\"없다고 !!!\")\n"
   ]
  },
  {
   "cell_type": "markdown",
   "id": "34940e55",
   "metadata": {},
   "source": [
    "### 연습문제 #03\n",
    "**BOJ 10872, 27433, 27434**\n",
    "\n",
    "*27434 문제의 경우 Python3 버전의 제출이 불가능하여 PyPy3으로 제출하였다.*\n",
    "\n",
    "해당 Python3가 제출 불가한 이유 : 27434의 입력값은 100,000까지 인데, 파이썬은 느린 실행 속도 때문에 100,000번의 재귀를 하는 동안 시간 제한을 초과하기 때문이다. 반면 PyPy3는 Python대비 5-10배 빠른 실행 속도와 더 효율적인 스택 관리로 재귀 최적화가 이루어져있기에 제출이 가능하다. "
   ]
  },
  {
   "cell_type": "code",
   "execution_count": null,
   "id": "f3b6ead5",
   "metadata": {},
   "outputs": [],
   "source": [
    "# 10872\n",
    "num = int(input())\n",
    "m = 1\n",
    "for i in range(1,num + 1):\n",
    "    m *= i\n",
    "print(m)"
   ]
  },
  {
   "cell_type": "code",
   "execution_count": null,
   "id": "91a3302e",
   "metadata": {},
   "outputs": [],
   "source": [
    "#27433\n",
    "num = int(input())\n",
    "\n",
    "mul_total = 1\n",
    "\n",
    "if num == 0:\n",
    "    print(1)\n",
    "\n",
    "else:\n",
    "    for i in range(1,num + 1):\n",
    "        mul_total *= i\n",
    "    print(mul_total)"
   ]
  },
  {
   "cell_type": "code",
   "execution_count": null,
   "id": "751da9ce",
   "metadata": {},
   "outputs": [],
   "source": [
    "#27434\n",
    "import sys\n",
    "sys.setrecursionlimit(10**6)\n",
    "\n",
    "def Factorial(N):\n",
    "    if N == 0:\n",
    "        return 1\n",
    "    return N * Factorial(N - 1)\n",
    "\n",
    "N = int(input())\n",
    "print(f\"{Factorial(N)}\")"
   ]
  },
  {
   "cell_type": "markdown",
   "id": "e00b7fa3",
   "metadata": {},
   "source": [
    "### 연습문제 #04\n",
    "**BOJ 2750, 2751, 10989**\n",
    "\n",
    "*sys.stdin.readline() 터미널 환경에 최적화 되어 있기 때문에 Jupyter Notebook에서는 동작을 하지 않는다. 하지만 이를 input()으로 바꿀 경우 백준 문제의 조건을 통과하지 못하기 때문에 그대로 유지하였다.*\n",
    "\n",
    "**10989번의 경우 2751번의 문제와 똑같이 작성했더니 '메모리 초과' 에러가 떨어졌다. 즉, 기존 코드에서는 최대 10,000,000개의 데이터가 리스트에 저장되기 때문에(40MB) 메모리가 초과되는 것이었다. 이때, 문제의 조건에서 주어지는 숫자가 1~10,000이라고 하였으므로 10,000,000개의 데이터 중 중복되는 값이 많다는 것을 추론할 수 있다. 따라서, 모든 숫자를 리스트에 저장하는 것이 아닌, 1~10,000의 숫자들이 몇 번 중복되어 나타났는지를 count 해주고, 중복된 만큼 출력해주면 된다는 결론에 도달할 수 있다.**"
   ]
  },
  {
   "cell_type": "code",
   "execution_count": null,
   "id": "d007b4f0",
   "metadata": {},
   "outputs": [],
   "source": [
    "#BOJ 2750\n",
    "\n",
    "num = int(input())\n",
    "num_list = []\n",
    "for _ in range(num):\n",
    "    x = int(input())\n",
    "    num_list.append(x)\n",
    "\n",
    "num_list.sort()\n",
    "\n",
    "for num in num_list:\n",
    "    print(num)"
   ]
  },
  {
   "cell_type": "code",
   "execution_count": null,
   "id": "bc0b4ee0",
   "metadata": {},
   "outputs": [],
   "source": [
    "#BOJ 2751\n",
    "\n",
    "import sys\n",
    "N = int(sys.stdin.readline())\n",
    "nList = [int(sys.stdin.readline()) for _ in range(N)]\n",
    "\n",
    "nList.sort()\n",
    "\n",
    "for num in nList:\n",
    "    print(num)"
   ]
  },
  {
   "cell_type": "code",
   "execution_count": null,
   "id": "de500d7e",
   "metadata": {},
   "outputs": [],
   "source": [
    "#BOJ 10989\n",
    "\n",
    "import sys\n",
    "N = int(sys.stdin.readline())\n",
    "\n",
    "count = [0] * 10001\n",
    "\n",
    "for _ in range(N):\n",
    "    num = int(sys.stdin.readline())\n",
    "    count[num] += 1\n",
    "\n",
    "for i in range(1, 10001):\n",
    "    if count[i] > 0:\n",
    "        for _ in range(count[i]):\n",
    "            print(i)\n"
   ]
  },
  {
   "cell_type": "markdown",
   "id": "350753f7",
   "metadata": {},
   "source": [
    "### 연습문제 #05: 두 배열의 원소 교체 : 국제 알고리즘 대회\n",
    "\n",
    "**두 배열을 입력으로 받아 A와 B배열의 원소들을 K번 만큼 교환해서 A의 합이 최대가 되도록 한다.**\n",
    "\n",
    "기존 코드는 \n",
    "\n",
    "*N: 0 ~ 100,000*\n",
    "\n",
    "*K: 0 ~ N*\n",
    "\n",
    "*원소 범위: 1 ~ 10,000,000*\n",
    "\n",
    "라는 조건 아래에서 최대 100억 번 연산을 수행해야했고, 이로인한 성능적인 한계 때문에 최적화의 필요성을 느꼈다. \n",
    "\n",
    "기존 코드는 각 반복마다 3번의 연산을 진행했어야 해서 시간 복잡도 문제가 있었다. 연산하지 않고 최소값과 최대값을 순서대로 비교하기 위해 sort() 메소드를 사용하여 A는 오름차순으로, B는 내림차순으로 정렬하였다. 이렇게 하면 같은 index에서 A의 최소값과 B의 최대값을 비교해 이득이 된다면 교환하고, 이득이 되지 않는 순간부터는 반복문을 탈출할 수 있도록 하였다. 이를 통해 연산 횟수를 줄이고 시간 복잡도 문제를 해결하였다.\n"
   ]
  },
  {
   "cell_type": "code",
   "execution_count": null,
   "id": "70a8d256",
   "metadata": {},
   "outputs": [],
   "source": [
    "# 기존 코드\n",
    "N, K = map(int, input().split())\n",
    "\n",
    "A = list(map(int, input().split()))\n",
    "B = list(map(int, input().split()))\n",
    "\n",
    "change_num = 0\n",
    "\n",
    "while change_num < K:\n",
    "    minimum_num_A_index = A.index(min(A))\n",
    "    maximum_num_B_index = B.index(max(B))\n",
    "    if A[minimum_num_A_index] < B[maximum_num_B_index]:\n",
    "        A[minimum_num_A_index], B[maximum_num_B_index] = B[maximum_num_B_index], A[minimum_num_A_index]\n",
    "        change_num += 1\n",
    "    else:\n",
    "        break\n",
    "\n",
    "print(sum(A))\n",
    "\n"
   ]
  },
  {
   "cell_type": "code",
   "execution_count": null,
   "id": "719a1a9e",
   "metadata": {},
   "outputs": [],
   "source": [
    "# 개선된 코드\n",
    "\n",
    "N, K = map(int, input().split())\n",
    "\n",
    "A = list(map(int, input().split()))\n",
    "B = list(map(int, input().split()))\n",
    "\n",
    "A.sort()\n",
    "B.sort(reverse = True)\n",
    "\n",
    "for i in range(min(N, K)):\n",
    "    if A[i] < B[i]:\n",
    "        A[i], B[i] = B[i], A[i]\n",
    "    else:\n",
    "        break\n",
    "\n",
    "print(sum(A))"
   ]
  },
  {
   "cell_type": "markdown",
   "id": "b50a2105",
   "metadata": {},
   "source": [
    "### 연습문제 #06: 수 찾기\n",
    "**BOJ 1920 : N개의 정수 A[1], A[2], …, A[N]이 주어져 있을 때, 이 안에 X라는 정수가 존재하는지 알아내는 프로그램을 작성하시오.**\n",
    "\n",
    "N과 M이 1~100,000 사이의 숫자이기 때문에 기존 코드로는 최악의 경우 연산 수가 100억번이었기 때문에 시간 초과로 인해 최적화를 할 필요가 있었다. list에서 in연산은 처음부터 끝까지 순차 탐색하는 선형 탐색이기에 시간이 초과될 수밖에 없다. 이를통해 자료구조를 바꿔 최적화를 해야겠다고 생각했고, in연산을 해시값 계산으로 처리하는 set을 사용하였다. set을 사용한다면 최악의 경우 연산 수가 10만번으로 줄기 때문에 시간 최적화를 할 수 있었다. \n"
   ]
  },
  {
   "cell_type": "code",
   "execution_count": null,
   "id": "765ac59c",
   "metadata": {},
   "outputs": [],
   "source": [
    "# 기존 코드\n",
    "\n",
    "N = int(input())\n",
    "A = list(map(int, input().split()))\n",
    "\n",
    "M = int(input())\n",
    "B = list(map(int, input().split()))\n",
    "\n",
    "for num in B:\n",
    "    if num in A:\n",
    "        print(1)\n",
    "    else:\n",
    "        print(0)"
   ]
  },
  {
   "cell_type": "code",
   "execution_count": null,
   "id": "87d25583",
   "metadata": {},
   "outputs": [],
   "source": [
    "# 개선된 코드\n",
    "import sys\n",
    "\n",
    "N = int(sys.stdin.readline())\n",
    "A = set(map(int, sys.stdin.readline().split()))\n",
    "\n",
    "M = int(sys.stdin.readline())\n",
    "B = list(map(int, sys.stdin.readline().split()))\n",
    "\n",
    "for x in B:\n",
    "    print(1) if x in A else print(0)"
   ]
  }
 ],
 "metadata": {
  "kernelspec": {
   "display_name": ".venv",
   "language": "python",
   "name": "python3"
  },
  "language_info": {
   "codemirror_mode": {
    "name": "ipython",
    "version": 3
   },
   "file_extension": ".py",
   "mimetype": "text/x-python",
   "name": "python",
   "nbconvert_exporter": "python",
   "pygments_lexer": "ipython3",
   "version": "3.13.5"
  }
 },
 "nbformat": 4,
 "nbformat_minor": 5
}
