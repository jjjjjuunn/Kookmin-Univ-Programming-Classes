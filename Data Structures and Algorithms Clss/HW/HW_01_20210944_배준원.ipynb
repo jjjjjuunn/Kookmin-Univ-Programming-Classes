{
 "cells": [
  {
   "cell_type": "code",
   "execution_count": 3,
   "id": "4b77fa58",
   "metadata": {},
   "outputs": [
    {
     "name": "stdout",
     "output_type": "stream",
     "text": [
      "두 개의 정수를 입력하세요...\n",
      "10 + 0 = 10\n",
      "10 - 0 = 10\n",
      "10 * 0 = 0\n",
      "오류 : division by zero\n",
      "10 / 0 = 0\n",
      "10 ** 0 = 1\n"
     ]
    }
   ],
   "source": [
    "# 연습문제 #05 : 계산기 클래스 -> 상속과 메소드 재정의\n",
    "class Cal:\n",
    "    def __init__(self, first = 0, second = 0):\n",
    "        self.__first = first\n",
    "        self.__second = second\n",
    "\n",
    "    def add(self):\n",
    "        return self.__first + self.__second\n",
    "\n",
    "    def sub(self):\n",
    "        return self.__first - self.__second\n",
    "\n",
    "    def mul(self):\n",
    "        return self.__first * self.__second\n",
    "\n",
    "    def div(self):\n",
    "        return self.__first / self.__second\n",
    "\n",
    "    def getnum(self):\n",
    "        return self.__first, self.__second\n",
    "\n",
    "class NewCal(Cal):\n",
    "    def div(self):\n",
    "        try:\n",
    "           return self.getnum()[0] / self.getnum()[1]\n",
    "        \n",
    "        except ZeroDivisionError as e : \n",
    "            print(f'오류 : {e}')\n",
    "            return 0\n",
    "\n",
    "    def pow(self):\n",
    "        return self.getnum()[0] ** self.getnum()[1]\n",
    "\n",
    "\n",
    "if __name__ == '__main__':\n",
    "    print(\"두 개의 정수를 입력하세요...\")\n",
    "    first = int(input(\"first : \"))\n",
    "    second = int(input(\"second : \"))\n",
    "\n",
    "    Calculate = NewCal(first, second)\n",
    "    \n",
    "    print(f'{first} + {second} = {Calculate.add()}')\n",
    "    print(f'{first} - {second} = {Calculate.sub()}')\n",
    "    print(f'{first} * {second} = {Calculate.mul()}')\n",
    "    print(f'{first} / {second} = {Calculate.div()}')\n",
    "    print(f'{first} ** {second} = {Calculate.pow()}')\n",
    "\n"
   ]
  }
 ],
 "metadata": {
  "kernelspec": {
   "display_name": ".venv",
   "language": "python",
   "name": "python3"
  },
  "language_info": {
   "codemirror_mode": {
    "name": "ipython",
    "version": 3
   },
   "file_extension": ".py",
   "mimetype": "text/x-python",
   "name": "python",
   "nbconvert_exporter": "python",
   "pygments_lexer": "ipython3",
   "version": "3.13.5"
  }
 },
 "nbformat": 4,
 "nbformat_minor": 5
}
